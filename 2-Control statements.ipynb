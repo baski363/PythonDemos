{
 "cells": [
  {
   "cell_type": "code",
   "execution_count": null,
   "metadata": {},
   "outputs": [],
   "source": [
    "# if statement\n",
    "a = 3\n",
    "b = 10\n",
    "if a<b:\n",
    "    print(a,\"is less than\",b)\n",
    "else:\n",
    "    print(a,\"is not less than\",b)"
   ]
  },
  {
   "cell_type": "code",
   "execution_count": null,
   "metadata": {},
   "outputs": [],
   "source": [
    "# for loop\n",
    "mysum = 1 + 2 + 3 + 4 + 5 \n",
    "mysum2= 0\n",
    "for i in range(1,5):\n",
    "    mysum2 += i        # this is shorthand for mysum2 = mysum2+i\n",
    "    \n",
    "print(mysum,mysum2)"
   ]
  },
  {
   "cell_type": "code",
   "execution_count": null,
   "metadata": {},
   "outputs": [],
   "source": [
    "mysum2 = 0\n",
    "for i in range(1,6):\n",
    "    mysum2 += i\n",
    "print(mysum,mysum2)"
   ]
  },
  {
   "cell_type": "code",
   "execution_count": null,
   "metadata": {},
   "outputs": [],
   "source": [
    "# while loop\n",
    "i = 1\n",
    "mysum2 = 0\n",
    "while i<=5:\n",
    "    mysum2 += i\n",
    "    i+=1             # this is shorthand for i = i+1\n",
    "    \n",
    "print(mysum2)"
   ]
  },
  {
   "cell_type": "code",
   "execution_count": null,
   "metadata": {},
   "outputs": [],
   "source": [
    "# the python way\n",
    "mysum2 = sum(range(1,6))\n",
    "print(mysum2)"
   ]
  },
  {
   "cell_type": "code",
   "execution_count": null,
   "metadata": {},
   "outputs": [],
   "source": [
    "# the math way\n",
    "n = 5\n",
    "mysum2 = n*(n+1)/2  # this is the formula for 1+2+3+...+n\n",
    "print(mysum2)"
   ]
  },
  {
   "cell_type": "code",
   "execution_count": null,
   "metadata": {},
   "outputs": [],
   "source": []
  }
 ],
 "metadata": {
  "kernelspec": {
   "display_name": "Python 3",
   "language": "python",
   "name": "python3"
  },
  "language_info": {
   "codemirror_mode": {
    "name": "ipython",
    "version": 3
   },
   "file_extension": ".py",
   "mimetype": "text/x-python",
   "name": "python",
   "nbconvert_exporter": "python",
   "pygments_lexer": "ipython3",
   "version": "3.7.6"
  }
 },
 "nbformat": 4,
 "nbformat_minor": 4
}
