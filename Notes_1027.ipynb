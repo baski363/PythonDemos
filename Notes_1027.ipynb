{
 "cells": [
  {
   "cell_type": "code",
   "execution_count": null,
   "metadata": {},
   "outputs": [],
   "source": [
    "# functions in Python\n",
    "# function that checks if i is even\n",
    "def is_even(i):\n",
    "    if i % 2 == 0:\n",
    "        return True       \n",
    "    else:\n",
    "        return False        \n",
    "    \n",
    "print(is_even(3))\n",
    "print(is_even(4))\n",
    "print(is_even(4.6))"
   ]
  },
  {
   "cell_type": "code",
   "execution_count": null,
   "metadata": {},
   "outputs": [],
   "source": [
    "# example with two arguments\n",
    "def find_product_of_a_and_b(a,b):\n",
    "    return a*b\n",
    "\n",
    "print(find_product_of_a_and_b(3,5))"
   ]
  },
  {
   "cell_type": "code",
   "execution_count": null,
   "metadata": {},
   "outputs": [],
   "source": [
    "# example with two outputs\n",
    "def find_sum_and_then_product(a,b):\n",
    "    return a+b,a*b\n",
    "\n",
    "print(find_sum_and_then_product(3,5))\n",
    "x, y = find_sum_and_then_product(2,10)\n",
    "print('value of x is ',x)\n",
    "print('value of y is ',y)"
   ]
  },
  {
   "cell_type": "code",
   "execution_count": null,
   "metadata": {},
   "outputs": [],
   "source": [
    "def slope(x1, y1): \n",
    "    \"\"\"\n",
    "    Computes the slope of the line passing through (x1, y1) and the origin (0 ,0)\n",
    "    Example\n",
    "    −−−−−−−\n",
    "    >>> a= slope(3,4) >>> print(a)\n",
    "    1.333333333 \n",
    "    \"\"\"\n",
    "    a = y1/x1 \n",
    "    return a"
   ]
  },
  {
   "cell_type": "code",
   "execution_count": null,
   "metadata": {},
   "outputs": [],
   "source": [
    "# Variables created inside a function (called local variables) are invisible outside functions.\n",
    "a  = 'this is different from the variable a inside function slope'\n",
    "b = slope(3,4) \n",
    "print('a is',a)\n",
    "print('b is',b)\n"
   ]
  },
  {
   "cell_type": "code",
   "execution_count": null,
   "metadata": {},
   "outputs": [],
   "source": []
  }
 ],
 "metadata": {
  "kernelspec": {
   "display_name": "Python 3",
   "language": "python",
   "name": "python3"
  },
  "language_info": {
   "codemirror_mode": {
    "name": "ipython",
    "version": 3
   },
   "file_extension": ".py",
   "mimetype": "text/x-python",
   "name": "python",
   "nbconvert_exporter": "python",
   "pygments_lexer": "ipython3",
   "version": "3.7.6"
  }
 },
 "nbformat": 4,
 "nbformat_minor": 4
}
