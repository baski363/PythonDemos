{
 "cells": [
  {
   "cell_type": "markdown",
   "metadata": {},
   "source": [
    "# Functions"
   ]
  },
  {
   "cell_type": "markdown",
   "metadata": {},
   "source": [
    "**Team member names:**"
   ]
  },
  {
   "cell_type": "markdown",
   "metadata": {},
   "source": [
    "###1. Create a function that converts from the Fahrenheit temperature scale to the Celsius scale. "
   ]
  },
  {
   "cell_type": "markdown",
   "metadata": {},
   "source": [
    "Your function should accept a temperature in $^\\circ$F and return the corresponding temperature in $^\\circ$C.  Your function should be called `fahrenheit2celsius`."
   ]
  },
  {
   "cell_type": "code",
   "execution_count": 1,
   "metadata": {},
   "outputs": [],
   "source": [
    "#Your code here"
   ]
  },
  {
   "cell_type": "code",
   "execution_count": 2,
   "metadata": {},
   "outputs": [],
   "source": [
    "assert fahrenheit2celsius(32) == 0.\n",
    "assert fahrenheit2celsius(68) == 20.\n",
    "assert fahrenheit2celsius(212) == 100."
   ]
  },
  {
   "cell_type": "markdown",
   "metadata": {},
   "source": [
    "###2. Create a function that calculates the future worth under compounding interest of an amount of money"
   ]
  },
  {
   "cell_type": "markdown",
   "metadata": {},
   "source": [
    "An initial amount of money $PV$ would grow to a future value ($FV$) of:\n",
    "\n",
    "$$\n",
    "    FV = PV\\left( 1 + \\frac{r}{100}\\right)^n\n",
    "$$\n",
    "\n",
    "with an interest rate of $r$% after $n$ years."
   ]
  },
  {
   "cell_type": "markdown",
   "metadata": {},
   "source": [
    "Your function should accept the present value $PV$, interest rate percentage $r$ and number of years, $n$ as inputs and should return the future value $FV$.  Your function should be called `future_worth`."
   ]
  },
  {
   "cell_type": "code",
   "execution_count": 2,
   "metadata": {},
   "outputs": [],
   "source": [
    "#Your code here"
   ]
  },
  {
   "cell_type": "code",
   "execution_count": 8,
   "metadata": {},
   "outputs": [],
   "source": [
    "tolerance = 1.e-5\n",
    "assert abs(future_worth(100., 2.5, 10.) - 128.0084544) < tolerance\n",
    "assert abs(future_worth(100., 5., 10.) - 162.8894626) < tolerance\n",
    "assert abs(future_worth(100., 10, 10.) - 259.37424601) < tolerance"
   ]
  }
 ],
 "metadata": {
  "kernelspec": {
   "display_name": "Python 3",
   "language": "python",
   "name": "python3"
  },
  "language_info": {
   "codemirror_mode": {
    "name": "ipython",
    "version": 3
   },
   "file_extension": ".py",
   "mimetype": "text/x-python",
   "name": "python",
   "nbconvert_exporter": "python",
   "pygments_lexer": "ipython3",
   "version": "3.7.6"
  }
 },
 "nbformat": 4,
 "nbformat_minor": 4
}
