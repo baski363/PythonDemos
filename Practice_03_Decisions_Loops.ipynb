{
 "cells": [
  {
   "cell_type": "markdown",
   "metadata": {},
   "source": [
    "# Decisions and Loops"
   ]
  },
  {
   "cell_type": "markdown",
   "metadata": {},
   "source": [
    "From the PyHW_02, copy over your function `fahrenheit2celsius` below.  Inside of a loop, call your function repeatedly to make a listing of Fahrenheit temperatures from 32 to 212 degrees in steps of 5 degrees and the corresponding temperatures in degrees Celsius.  The output should be in the form of:\n",
    "\n",
    "32 oF is equal to 0.00 oC\n",
    "\n",
    "Note you may want to look into the help on the function `range`. https://docs.python.org/3/tutorial/controlflow.html#the-range-function"
   ]
  },
  {
   "cell_type": "code",
   "execution_count": null,
   "metadata": {},
   "outputs": [],
   "source": [
    "# Your Py_HW02 function code here"
   ]
  },
  {
   "cell_type": "code",
   "execution_count": null,
   "metadata": {
    "collapsed": false,
    "jupyter": {
     "outputs_hidden": false
    },
    "scrolled": true
   },
   "outputs": [],
   "source": [
    "# Your code here"
   ]
  },
  {
   "cell_type": "markdown",
   "metadata": {},
   "source": [
    "Create a list called `bikes` that contains the brands yamaha, suzuki, ktm, kawasaki, honda, ducati. "
   ]
  },
  {
   "cell_type": "code",
   "execution_count": null,
   "metadata": {},
   "outputs": [],
   "source": [
    "# Your code here"
   ]
  },
  {
   "cell_type": "markdown",
   "metadata": {},
   "source": [
    "Write a function called `favoritebike` that accepts a user input (a brand of motorcycle) and outputs as well as `return` the position of the input in the list `bikes` or outputs that it is not in the list and `returns` a value of -1."
   ]
  },
  {
   "cell_type": "code",
   "execution_count": null,
   "metadata": {},
   "outputs": [],
   "source": [
    "# Your code here"
   ]
  },
  {
   "cell_type": "code",
   "execution_count": null,
   "metadata": {},
   "outputs": [],
   "source": [
    "y = favoritebike(\"ducati\")\n",
    "assert y == 5, 'this is NOT the correct value.' "
   ]
  },
  {
   "cell_type": "code",
   "execution_count": null,
   "metadata": {},
   "outputs": [],
   "source": [
    "y = favoritebike(\"bmw\")\n",
    "assert y == -1, 'this is NOT the correct response.' "
   ]
  }
 ],
 "metadata": {
  "kernelspec": {
   "display_name": "Python 3",
   "language": "python",
   "name": "python3"
  },
  "language_info": {
   "codemirror_mode": {
    "name": "ipython",
    "version": 3
   },
   "file_extension": ".py",
   "mimetype": "text/x-python",
   "name": "python",
   "nbconvert_exporter": "python",
   "pygments_lexer": "ipython3",
   "version": "3.7.6"
  }
 },
 "nbformat": 4,
 "nbformat_minor": 4
}
