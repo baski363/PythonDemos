{
 "cells": [
  {
   "cell_type": "markdown",
   "metadata": {},
   "source": [
    "# Packages"
   ]
  },
  {
   "cell_type": "markdown",
   "metadata": {},
   "source": [
    "There are a number of packages that come standard with the Anaconda download.  For these exercises we will be using the package NumPy which is a basic package for creating and using n-dimensional arrays.  To get help on NumPy go to the Menu bar under Help and select NumPy.  This will open up another window with the NumPy website open to the NumPy Reference."
   ]
  },
  {
   "cell_type": "markdown",
   "metadata": {},
   "source": [
    "By convention, the NumPy package is imported with the alias \"np\".  In the cell below import the package NumPy using the alias \"np\".  In the import statement NumPy is written as \"numpy\"."
   ]
  },
  {
   "cell_type": "code",
   "execution_count": null,
   "metadata": {},
   "outputs": [],
   "source": [
    "import numpy as np"
   ]
  },
  {
   "cell_type": "markdown",
   "metadata": {},
   "source": [
    "## 1-Dimensional Arrays"
   ]
  },
  {
   "cell_type": "markdown",
   "metadata": {},
   "source": [
    "One common task to do with NumPy is to create an array.  Let's start with a vector.  Use the command `np.array` create a vector called x that has the values [1, 2, 3].  NumPy converts the list into an array.  If you are dealing with numbers, it is often better to use NumPy arrays rather than lists because most all operations with arrays will be faster."
   ]
  },
  {
   "cell_type": "code",
   "execution_count": null,
   "metadata": {
    "collapsed": true,
    "jupyter": {
     "outputs_hidden": true
    }
   },
   "outputs": [],
   "source": [
    "x = np.array([1, 2, 3])"
   ]
  },
  {
   "cell_type": "markdown",
   "metadata": {},
   "source": [
    "NumPy has many built-in functions that can be accessed through the \"dot\" notation.  For example, to determine the type of values in the array x use `x.dtype` which is short for data type.  What type of data is in the x vector?   "
   ]
  },
  {
   "cell_type": "code",
   "execution_count": null,
   "metadata": {},
   "outputs": [],
   "source": [
    "x.dtype"
   ]
  },
  {
   "cell_type": "code",
   "execution_count": null,
   "metadata": {
    "collapsed": true,
    "jupyter": {
     "outputs_hidden": true
    }
   },
   "outputs": [],
   "source": [
    "assert x.dtype == 'int32'  #on a Windows machine\n",
    "assert x.dtype == 'int64'  #on a Mac computer"
   ]
  },
  {
   "cell_type": "markdown",
   "metadata": {},
   "source": [
    "To get the size of the array use `shape`.  The first number is the number of \"rows\" and the second number, if present, is the number of \"columns\".  (For more than 2 dimensions the notion of rows and columns doesn't really make sense)."
   ]
  },
  {
   "cell_type": "markdown",
   "metadata": {},
   "source": [
    "<div class=\"alert alert-danger\">\n",
    "It is somewhat dangerous to use integers, better to use floats for most all calculations.  To do so, add a decimal point to one of the numbers in the vector i.e., \n",
    "`x = np.array([4., 5, 6])`\n",
    "</div>"
   ]
  },
  {
   "cell_type": "markdown",
   "metadata": {},
   "source": [
    "In the cell below, create the array `x` with the same values as in the second code cell but do so such that the type is a float.  Check that it is a float."
   ]
  },
  {
   "cell_type": "code",
   "execution_count": null,
   "metadata": {},
   "outputs": [],
   "source": [
    "x = np.array([1., 2, 3])\n",
    "x.dtype"
   ]
  },
  {
   "cell_type": "markdown",
   "metadata": {},
   "source": [
    "In addition to information about the array, the NumPy built-in functions can also compute values based on the array.  Use the help to find out about the functions `mean` and `std`.  Note these functions must be followed by parentheses thus, `x.mean()`.  Other common functions that get used often are: `min`, `max`, `argmin`, `argmax`, `transpose`, and `sum`.\n",
    "\n",
    "In the cell below, create the variables `x_mean` and `x_std` which are the mean and standard deviation of the x array."
   ]
  },
  {
   "cell_type": "code",
   "execution_count": null,
   "metadata": {},
   "outputs": [],
   "source": [
    "x_mean = x.mean() \n",
    "x_std = x.std()"
   ]
  },
  {
   "cell_type": "code",
   "execution_count": null,
   "metadata": {},
   "outputs": [],
   "source": [
    "tolerance = 1.e-6\n",
    "assert x_mean == 2.0\n",
    "assert np.abs(x_std - 0.816496580928) < tolerance"
   ]
  },
  {
   "cell_type": "markdown",
   "metadata": {},
   "source": [
    "## 2-Dimensional Arrays"
   ]
  },
  {
   "cell_type": "markdown",
   "metadata": {},
   "source": [
    "To create a 2-dimensional array enclose the rows in square brackets to make a list of lists.  Create a 2-D array called $A$ that is given by:\n",
    "\n",
    "$$\n",
    "    A = \\begin{bmatrix}\n",
    "         1 & 2 & 3 \\\\\n",
    "         4 & 5 & 6 \\\\\n",
    "         7 & 8 & 9 \n",
    "         \\end{bmatrix}\n",
    "$$"
   ]
  },
  {
   "cell_type": "code",
   "execution_count": null,
   "metadata": {},
   "outputs": [],
   "source": [
    "A = np.array([[1., 2, 3], [4, 5, 6], [7, 8, 9]])\n",
    "print(A)"
   ]
  },
  {
   "cell_type": "markdown",
   "metadata": {},
   "source": [
    "In general, the built-in methods work the same as for the 1-D array.  With 2-D arrays however there are some other options.  For example, if we wanted to get the overall average of the $A$ matrix, we could just use `mean()` as for the 1-D case.  But what if we wanted the average for each of the rows, or columns?  This could be specified by an option to `mean()` function.  To get the average of the rows use `A.mean(axis = 1)`.  \n",
    "\n",
    "Create a variable `A_col_mean` that is the mean values of the columns of the $A$ matrix. "
   ]
  },
  {
   "cell_type": "code",
   "execution_count": null,
   "metadata": {},
   "outputs": [],
   "source": [
    "A_col_mean = A.mean(axis = 0)\n",
    "print('The column mean is ',A_col_mean)\n",
    "A_row_mean = A.mean(axis = 1)\n",
    "print('The row mean is ', A_row_mean)"
   ]
  },
  {
   "cell_type": "code",
   "execution_count": null,
   "metadata": {},
   "outputs": [],
   "source": [
    "tolerance = 1.e-6\n",
    "diff = np.abs(A_col_mean - np.array([4., 5., 6.]))\n",
    "assert diff.all() < tolerance"
   ]
  },
  {
   "cell_type": "markdown",
   "metadata": {},
   "source": [
    "## Creation of \"Special\" Arrays"
   ]
  },
  {
   "cell_type": "markdown",
   "metadata": {},
   "source": [
    "Certain arrays are often created so the there are NumPy shortcuts for making them.  To create an identity matrix there is the command `np.eye(size)` where `size` is the number of rows and columns in the matrix (must be square).  So for example `B = np.eye(3)` creates the matrix,\n",
    "\n",
    "$$\n",
    "    B = \\begin{bmatrix}\n",
    "        1 & 0 & 0 \\\\\n",
    "        0 & 1 & 0 \\\\\n",
    "        0 & 0 & 1\n",
    "        \\end{bmatrix}\n",
    "$$\n",
    "\n",
    "To create a matrix that has zeros everywhere use the command `np.zeros([rows, columns])`.  There is also the command `np.ones([rows, columns])` to create an array that has a value of 1 everywere in the array.  To create an array with empty values use `np.empty([rows, columns])`.  "
   ]
  },
  {
   "cell_type": "markdown",
   "metadata": {},
   "source": [
    "## Importing only selected functions"
   ]
  },
  {
   "cell_type": "markdown",
   "metadata": {},
   "source": [
    "If you only need one or two functions from a package then usually it is better to only import them rather than the entire package.  This depends somewhat on how large the package is.  For example, SciPy is a large package that has many un-related pieces so often only the particular functions needed are imported.  To import the Bessel function of the first kind of real order that is located in the Special package of SciPy, use the following:"
   ]
  },
  {
   "cell_type": "code",
   "execution_count": null,
   "metadata": {
    "collapsed": true,
    "jupyter": {
     "outputs_hidden": true
    }
   },
   "outputs": [],
   "source": [
    "from scipy.special import jv"
   ]
  },
  {
   "cell_type": "markdown",
   "metadata": {},
   "source": [
    "<div class=\"alert alert-danger\">\n",
    "Note if you had a variable or function called `jv` before you executed the above command, the above command would overwrite it.\n",
    "</div>"
   ]
  },
  {
   "cell_type": "markdown",
   "metadata": {},
   "source": [
    "Once imported the function can then be used as shown below."
   ]
  },
  {
   "cell_type": "code",
   "execution_count": null,
   "metadata": {},
   "outputs": [],
   "source": [
    "bessel_fcn = jv(0, 1.24)\n",
    "print('The value of the 0th order of the Bessel function of the first kind at x = 1.24 is {:.6f}'.format(bessel_fcn))"
   ]
  }
 ],
 "metadata": {
  "kernelspec": {
   "display_name": "Python 3",
   "language": "python",
   "name": "python3"
  },
  "language_info": {
   "codemirror_mode": {
    "name": "ipython",
    "version": 3
   },
   "file_extension": ".py",
   "mimetype": "text/x-python",
   "name": "python",
   "nbconvert_exporter": "python",
   "pygments_lexer": "ipython3",
   "version": "3.7.6"
  }
 },
 "nbformat": 4,
 "nbformat_minor": 4
}
