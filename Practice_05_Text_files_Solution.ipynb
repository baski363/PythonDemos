{
 "cells": [
  {
   "cell_type": "markdown",
   "metadata": {},
   "source": [
    "# Working with Text Files"
   ]
  },
  {
   "cell_type": "markdown",
   "metadata": {},
   "source": [
    "Text files are used for a variety of purposes and are very convienent.  They are easily read by many different types of software, are human readable, can be compressed to very small size and are platform independent."
   ]
  },
  {
   "cell_type": "markdown",
   "metadata": {},
   "source": [
    "Let's start by creating a text file called 'MAE_3403_text_file_demo.txt' in the current folder.  Use the variable `f` for the file.  Don't worry about appending onto the file just create a new file. "
   ]
  },
  {
   "cell_type": "code",
   "execution_count": null,
   "metadata": {
    "collapsed": true,
    "jupyter": {
     "outputs_hidden": true
    }
   },
   "outputs": [],
   "source": [
    "f = open('MAE_3403_text_file_demo.txt', 'w')"
   ]
  },
  {
   "cell_type": "code",
   "execution_count": null,
   "metadata": {
    "collapsed": false,
    "jupyter": {
     "outputs_hidden": false
    }
   },
   "outputs": [],
   "source": [
    "assert f.name == 'MAE_3403_text_file_demo.txt'"
   ]
  },
  {
   "cell_type": "markdown",
   "metadata": {},
   "source": [
    "First let's write some header information to the file.  The file will contain the time and $y$ position of a particle experiencing simple projectile motion.  The header should be only one line, 'Time, s' and 'y-position, m' which are seperated by a tab character."
   ]
  },
  {
   "cell_type": "code",
   "execution_count": null,
   "metadata": {
    "collapsed": false,
    "jupyter": {
     "outputs_hidden": false
    }
   },
   "outputs": [],
   "source": [
    "f.write('Time, s \\t y-position, m \\n')"
   ]
  },
  {
   "cell_type": "markdown",
   "metadata": {},
   "source": [
    "Now let's fill in the values using the following equation:\n",
    "\n",
    "$$\n",
    "    y = y_0 + v_{0y}t - \\frac{1}{2}gt^2\n",
    "$$\n",
    "\n",
    "where $y_0 = 1$ m, $v_{0y} = 25$ m/s and $g = 9.81$ m/s^2.  Let time go from 0 to 5 s in steps of 0.1 s.\n",
    "\n",
    "Look at the numpy function `linspace` to create the array for time."
   ]
  },
  {
   "cell_type": "code",
   "execution_count": null,
   "metadata": {
    "collapsed": false,
    "jupyter": {
     "outputs_hidden": false
    }
   },
   "outputs": [],
   "source": [
    "import numpy as np\n",
    "t = np.linspace(0, 5., 51)"
   ]
  },
  {
   "cell_type": "markdown",
   "metadata": {},
   "source": [
    "Create variables `y0`, `v0y` and `g` for the initial position, initial velocity and gravitational acceleration.  Assign them to the correct values.\n",
    "\n",
    "Create an array called 'y' for the y values.  Fill the array with the appropriate values using numpy's built-in array manipulation (i.e., don't use a loop)"
   ]
  },
  {
   "cell_type": "code",
   "execution_count": null,
   "metadata": {
    "collapsed": false,
    "jupyter": {
     "outputs_hidden": false
    }
   },
   "outputs": [],
   "source": [
    "y0 = 1.0\n",
    "v0y = 25.\n",
    "g = 9.81\n",
    "\n",
    "y = y0 + v0y*t - 0.5*g*t**2"
   ]
  },
  {
   "cell_type": "markdown",
   "metadata": {},
   "source": [
    "Write the time and y-position data to the file, seperated by a tab character ('\\t').  Don't forget about putting in new line characters ('\\n')."
   ]
  },
  {
   "cell_type": "code",
   "execution_count": null,
   "metadata": {
    "collapsed": false,
    "jupyter": {
     "outputs_hidden": false
    }
   },
   "outputs": [],
   "source": [
    "for i in range(len(t)):\n",
    "    f.write('{:.1f} \\t {:.4f} \\n'.format(t[i], y[i]))\n",
    "\n",
    "f.close()"
   ]
  },
  {
   "cell_type": "markdown",
   "metadata": {},
   "source": [
    "After you have closed the file, open the file in IPython to make sure it is formatted correctly.  Once you are sure it is correct run the cell below."
   ]
  },
  {
   "cell_type": "code",
   "execution_count": null,
   "metadata": {
    "collapsed": true,
    "jupyter": {
     "outputs_hidden": true
    }
   },
   "outputs": [],
   "source": [
    "import numpy as np\n",
    "\n",
    "t, y = np.loadtxt('MAE_3403_text_file_demo.txt', unpack = True, skiprows = 1)\n",
    "\n",
    "assert np.isclose(t[10], 1.0)\n",
    "assert np.isclose(y[20], 31.38)"
   ]
  },
  {
   "cell_type": "markdown",
   "metadata": {},
   "source": [
    "# Reading a Text File using Numpy 'loadtxt'"
   ]
  },
  {
   "cell_type": "markdown",
   "metadata": {},
   "source": [
    "Because reading data from a text file is such a common task, Numpy has a command that greatly simplifies this.  The command is 'loadtxt' and it has a number of options, a few of which are demonstrated below."
   ]
  },
  {
   "cell_type": "markdown",
   "metadata": {},
   "source": [
    "The first parameter passed to 'loadtxt' is the name of the file in quotation marks.  If the file is not in the current folder, then either give the full path to the file (preferred) or you can use the relative path.  After this you should use the names of the options and the values.  Some common options are:\n",
    "\n",
    "`skiprows` - number of rows to skip, number\n",
    "\n",
    "`usecols` - which columns to use, tuple e.g., to use the first and third type `usecols = (0, 2)`\n",
    "\n",
    "`unpack` - if True returns transpose of array, for columnar data set to True\n",
    "\n",
    "`delimiter` - if non-whitespace chacter is to be used as seperator character set it with `delimiter = ','` to use a comma for example"
   ]
  },
  {
   "cell_type": "markdown",
   "metadata": {},
   "source": [
    "Look at the data file 'numpy_read_text_file_example.txt' using a text editor (the one in IPython is fine).  Read in the numbers of the load column using `loadtxt` and store them in an array called 'load'."
   ]
  },
  {
   "cell_type": "code",
   "execution_count": null,
   "metadata": {
    "collapsed": false,
    "jupyter": {
     "outputs_hidden": false
    }
   },
   "outputs": [],
   "source": [
    "load = np.loadtxt('numpy_read_text_file_example.txt', usecols = (1,), skiprows = 7, unpack = True)"
   ]
  },
  {
   "cell_type": "code",
   "execution_count": null,
   "metadata": {},
   "outputs": [],
   "source": [
    "assert np.isclose(load[10], 0.25628) "
   ]
  },
  {
   "cell_type": "markdown",
   "metadata": {},
   "source": [
    "Now, save the depth and time coulumns into arrays called 'depth' and 'time', again using `loadtxt`"
   ]
  },
  {
   "cell_type": "code",
   "execution_count": null,
   "metadata": {},
   "outputs": [],
   "source": [
    "depth, time = np.loadtxt('numpy_read_text_file_example.txt', usecols = (0, 2), skiprows = 7, unpack = True)"
   ]
  },
  {
   "cell_type": "code",
   "execution_count": null,
   "metadata": {
    "collapsed": false,
    "jupyter": {
     "outputs_hidden": false
    }
   },
   "outputs": [],
   "source": [
    "assert depth.shape[0] == 93"
   ]
  },
  {
   "cell_type": "markdown",
   "metadata": {},
   "source": [
    "Using the `with` construct, write the values of the arrays 'depth', 'load', and 'time' to the file 'write_with.txt'.  Use 6 decimal places for the depth and load and 3 decimal places for the time."
   ]
  },
  {
   "cell_type": "code",
   "execution_count": null,
   "metadata": {
    "collapsed": true,
    "jupyter": {
     "outputs_hidden": true
    }
   },
   "outputs": [],
   "source": [
    "with open('write_with.txt', 'w') as f:\n",
    "    for i in range(len(depth)):\n",
    "        f.write('{:.6f} \\t {:.6f} \\t {:.3f} \\n'.format(depth[i], load[i], time[i]))"
   ]
  },
  {
   "cell_type": "code",
   "execution_count": null,
   "metadata": {
    "collapsed": true,
    "jupyter": {
     "outputs_hidden": true
    }
   },
   "outputs": [],
   "source": [
    "d, l, t = np.loadtxt('write_with.txt', unpack = True)\n",
    "assert np.isclose(l[28], 0.699584)"
   ]
  },
  {
   "cell_type": "markdown",
   "metadata": {},
   "source": [
    "# Reading Data Files from Excel with Pandas"
   ]
  },
  {
   "cell_type": "markdown",
   "metadata": {},
   "source": [
    "There are multiple ways to read data from Excel.  Here one easy way to do so is shown.  We will work with the same data as in the last example however here it has been saved as an Excel file called 'numpy_read_text_file_example.xls'."
   ]
  },
  {
   "cell_type": "markdown",
   "metadata": {},
   "source": [
    "First we need to import the Pandas library.  We will do so with the common alias of 'pd'."
   ]
  },
  {
   "cell_type": "code",
   "execution_count": null,
   "metadata": {
    "collapsed": true,
    "jupyter": {
     "outputs_hidden": true
    }
   },
   "outputs": [],
   "source": [
    "import pandas as pd"
   ]
  },
  {
   "cell_type": "markdown",
   "metadata": {},
   "source": [
    "The command to import the data from Excel is `read_excel`.  The filename to be read is the first argument to the command.  Next comes the following optional arguments:\n",
    "\n",
    "`sheetname` - name (or number) of sheet to import, name should be in quotes, numbers start at zero\n",
    "\n",
    "`index_col` - column to use for index values, usually set to None\n",
    "\n",
    "`parse_cols` - columns to read in, given in list\n",
    "\n",
    "`skiprows` - number of rows from begining to skip or can be which rows to skip"
   ]
  },
  {
   "cell_type": "code",
   "execution_count": null,
   "metadata": {
    "collapsed": false,
    "jupyter": {
     "outputs_hidden": false
    }
   },
   "outputs": [],
   "source": [
    "data_frame = pd.read_excel('numpy_read_text_file_example.xlsx', index_col = None, parse_cols = [0, 1, 2], skiprows = 6)"
   ]
  },
  {
   "cell_type": "markdown",
   "metadata": {},
   "source": [
    "Pandas stores array data in a type called DataFrame.  For our case this is all of the data"
   ]
  },
  {
   "cell_type": "code",
   "execution_count": null,
   "metadata": {
    "collapsed": false,
    "jupyter": {
     "outputs_hidden": false
    }
   },
   "outputs": [],
   "source": [
    "print(data_frame.shape)\n",
    "print(type(data_frame))"
   ]
  },
  {
   "cell_type": "markdown",
   "metadata": {},
   "source": [
    "To save the data as a numpy array there is the `.values` method"
   ]
  },
  {
   "cell_type": "code",
   "execution_count": null,
   "metadata": {
    "collapsed": false,
    "jupyter": {
     "outputs_hidden": false
    }
   },
   "outputs": [],
   "source": [
    "data_array = data_frame.values\n",
    "print(data_array.shape)\n",
    "print(type(data_array))"
   ]
  },
  {
   "cell_type": "markdown",
   "metadata": {},
   "source": [
    "Now we need to get each of the rows and save it to the correct variable"
   ]
  },
  {
   "cell_type": "code",
   "execution_count": null,
   "metadata": {
    "collapsed": false,
    "jupyter": {
     "outputs_hidden": false
    }
   },
   "outputs": [],
   "source": [
    "depth = data_array[:,0]\n",
    "load = data_array[:,1]\n",
    "time = data_array[:,2]"
   ]
  },
  {
   "cell_type": "markdown",
   "metadata": {},
   "source": [
    "Note this can be done a bit more compactly (although slower) with the following command:"
   ]
  },
  {
   "cell_type": "code",
   "execution_count": null,
   "metadata": {
    "collapsed": false,
    "jupyter": {
     "outputs_hidden": false
    }
   },
   "outputs": [],
   "source": [
    "depth2, load2, time2 = data_frame.values[:,0], data_frame.values[:,1], data_frame.values[:,2]"
   ]
  },
  {
   "cell_type": "code",
   "execution_count": null,
   "metadata": {
    "collapsed": false,
    "jupyter": {
     "outputs_hidden": false
    }
   },
   "outputs": [],
   "source": [
    "assert np.allclose(depth, depth2)\n",
    "assert np.allclose(load, load2)\n",
    "assert np.allclose(time, time2)"
   ]
  }
 ],
 "metadata": {
  "kernelspec": {
   "display_name": "Python 3",
   "language": "python",
   "name": "python3"
  },
  "language_info": {
   "codemirror_mode": {
    "name": "ipython",
    "version": 3
   },
   "file_extension": ".py",
   "mimetype": "text/x-python",
   "name": "python",
   "nbconvert_exporter": "python",
   "pygments_lexer": "ipython3",
   "version": "3.7.6"
  }
 },
 "nbformat": 4,
 "nbformat_minor": 4
}
