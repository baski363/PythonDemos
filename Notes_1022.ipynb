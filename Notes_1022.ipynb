{
 "cells": [
  {
   "cell_type": "code",
   "execution_count": 10,
   "metadata": {},
   "outputs": [
    {
     "name": "stdout",
     "output_type": "stream",
     "text": [
      "it is true\n",
      "huh\n"
     ]
    }
   ],
   "source": [
    "# conditional branching\n",
    "# please note the indentation; that is how python groups the code\n",
    "a = True\n",
    "if a:\n",
    "    print('it is true')\n",
    "else:\n",
    "    print('not true')\n",
    "print('huh')"
   ]
  },
  {
   "cell_type": "code",
   "execution_count": 12,
   "metadata": {},
   "outputs": [
    {
     "name": "stdout",
     "output_type": "stream",
     "text": [
      "value of a is 3 or more\n"
     ]
    }
   ],
   "source": [
    "a = 3\n",
    "if a == 0:\n",
    "    print('it is zero')\n",
    "elif  0 < a <= 2:\n",
    "    print('it is more than 0 and less then or equal to 2')\n",
    "elif 2 < a < 3:\n",
    "    print('it is more than 2 and less than 3')\n",
    "elif a >= 3:\n",
    "    print('value of a is 3 or more')\n",
    "else:\n",
    "    print('a is negative')"
   ]
  },
  {
   "cell_type": "code",
   "execution_count": 13,
   "metadata": {},
   "outputs": [
    {
     "data": {
      "text/plain": [
       "range(1, 8, 2)"
      ]
     },
     "execution_count": 13,
     "metadata": {},
     "output_type": "execute_result"
    }
   ],
   "source": [
    "# use range function to easily create lists of numbers: range([optional start], stop, [optional step])\n",
    "# However:\n",
    "range(1,8,2)"
   ]
  },
  {
   "cell_type": "code",
   "execution_count": 14,
   "metadata": {},
   "outputs": [
    {
     "data": {
      "text/plain": [
       "[1, 3, 5, 7]"
      ]
     },
     "execution_count": 14,
     "metadata": {},
     "output_type": "execute_result"
    }
   ],
   "source": [
    "list(range(1,8,2))"
   ]
  },
  {
   "cell_type": "code",
   "execution_count": 19,
   "metadata": {},
   "outputs": [
    {
     "data": {
      "text/plain": [
       "[0, 1, 2, 3, 4]"
      ]
     },
     "execution_count": 19,
     "metadata": {},
     "output_type": "execute_result"
    }
   ],
   "source": [
    "list(range(5))"
   ]
  },
  {
   "cell_type": "code",
   "execution_count": 17,
   "metadata": {},
   "outputs": [
    {
     "name": "stdout",
     "output_type": "stream",
     "text": [
      "8.3\n",
      "hello\n",
      "3\n",
      "hi\n",
      "-2.3\n"
     ]
    }
   ],
   "source": [
    "# for loop over a list\n",
    "l = [8.3, 'hello', 3, 'hi', -2.3]\n",
    "for i in l:\n",
    "    print(i)"
   ]
  },
  {
   "cell_type": "code",
   "execution_count": 20,
   "metadata": {},
   "outputs": [
    {
     "name": "stdout",
     "output_type": "stream",
     "text": [
      "0 8.3\n",
      "1 hello\n",
      "2 3\n",
      "3 hi\n",
      "4 -2.3\n"
     ]
    }
   ],
   "source": [
    "# for loop over a range based on the length of list l to get position indices\n",
    "l = [8.3, 'hello', 3, 'hi', -2.3]\n",
    "for i in range(len(l)):\n",
    "    print(i,l[i])"
   ]
  },
  {
   "cell_type": "code",
   "execution_count": 21,
   "metadata": {},
   "outputs": [
    {
     "name": "stdout",
     "output_type": "stream",
     "text": [
      "0 8.3\n",
      "1 hello\n",
      "2 3\n",
      "3 hi\n",
      "4 -2.3\n"
     ]
    }
   ],
   "source": [
    "# When looping through a sequence, the position index and corresponding value \n",
    "# can be retrieved at the same time using the enumerate() function.\n",
    "l = [8.3, 'hello', 3, 'hi', -2.3]\n",
    "for i,v in enumerate(l):\n",
    "    print(i,v)"
   ]
  },
  {
   "cell_type": "code",
   "execution_count": 26,
   "metadata": {},
   "outputs": [
    {
     "name": "stdout",
     "output_type": "stream",
     "text": [
      "What is your name? It is lancelot.\n",
      "What is your quest? It is the holy grail.\n",
      "What is your favorite color? It is blue.\n"
     ]
    }
   ],
   "source": [
    "# iterate over paired entries from two lists using the zip() function\n",
    "questions = ['name', 'quest', 'favorite color']\n",
    "answers = ['lancelot', 'the holy grail', 'blue']\n",
    "for q, a in zip(questions, answers):\n",
    "    # print('What is your', q,'?  It is',a)\n",
    "    print('What is your {0}? It is {1}.'.format(q, a)) #string formating commands; look up notes/tutorials"
   ]
  },
  {
   "cell_type": "code",
   "execution_count": 29,
   "metadata": {},
   "outputs": [
    {
     "name": "stdout",
     "output_type": "stream",
     "text": [
      "Found an even number 2\n",
      "Found an odd number 3\n"
     ]
    }
   ],
   "source": [
    "# break and continue commands\n",
    "for num in range(2, 10):\n",
    "    if num % 2 == 0:\n",
    "        print(\"Found an even number\", num)\n",
    "        continue\n",
    "    print(\"Found an odd number\", num)\n",
    "    break"
   ]
  },
  {
   "cell_type": "code",
   "execution_count": 30,
   "metadata": {},
   "outputs": [
    {
     "name": "stdout",
     "output_type": "stream",
     "text": [
      "0 8.3\n",
      "1 hello\n",
      "2 3\n"
     ]
    }
   ],
   "source": [
    "l = [8.3, 'hello', 3, 'hi', -2.3]\n",
    "i = 0\n",
    "# note the Boolean operation for NOT EQUAL TO: !=\n",
    "while l[i] != 'hi':\n",
    "    print(i, l[i])\n",
    "    i += 1"
   ]
  },
  {
   "cell_type": "code",
   "execution_count": 33,
   "metadata": {},
   "outputs": [
    {
     "name": "stdout",
     "output_type": "stream",
     "text": [
      "Baski\n"
     ]
    }
   ],
   "source": [
    "# dictionaries are not indexed by position, rather by \"keys\"\n",
    "# Keys must be distinct and immutable, e.g. a variable cannot be a key\n",
    "# generally it is better to use strings\n",
    "# Note the use of {} that is how python knows that its a dictionary\n",
    "\n",
    "d = { 'name' : 'Baski', 'extn' : 46055 }\n",
    "print(d['name'])\n",
    "# how to access an element by key?"
   ]
  },
  {
   "cell_type": "code",
   "execution_count": 36,
   "metadata": {},
   "outputs": [
    {
     "name": "stdout",
     "output_type": "stream",
     "text": [
      "{'sape': 4139, 'guido': 4127, 'jack': 4098}\n",
      "['sape', 'guido', 'jack']\n",
      "[4139, 4127, 4098]\n"
     ]
    }
   ],
   "source": [
    "#we can also create a dict using dict() method as shown below when keys are simple strings\n",
    "directory = dict(sape=4139, guido=4127, jack=4098)\n",
    "print(directory)\n",
    "print(list(directory.keys())) #prints all the keys\n",
    "print(list(directory.values())) #prints all the values"
   ]
  },
  {
   "cell_type": "code",
   "execution_count": 39,
   "metadata": {},
   "outputs": [
    {
     "name": "stdout",
     "output_type": "stream",
     "text": [
      "True\n",
      "Found jack's extension: 4098\n"
     ]
    }
   ],
   "source": [
    "# To check if a key is in the dictionary, use the \"in\" keyword\n",
    "directory = dict(sape=4139, guido=4127, jack=4098)\n",
    "print('jack' in directory)\n",
    "if 'jack' in directory:\n",
    "    print('Found jack\\'s extension:', directory['jack'])"
   ]
  },
  {
   "cell_type": "code",
   "execution_count": 40,
   "metadata": {},
   "outputs": [
    {
     "name": "stdout",
     "output_type": "stream",
     "text": [
      "{'sape': 4139, 'guido': 4127, 'jack': 4098}\n",
      "{'sape': 4139, 'guido': 4127, 'jack': 4098, 'baski': 46055}\n"
     ]
    }
   ],
   "source": [
    "# adding to the dict can be as simple as\n",
    "directory = dict(sape=4139, guido=4127, jack=4098)\n",
    "print(directory)\n",
    "directory['baski'] = 46055\n",
    "print(directory)"
   ]
  },
  {
   "cell_type": "code",
   "execution_count": 41,
   "metadata": {},
   "outputs": [
    {
     "name": "stdout",
     "output_type": "stream",
     "text": [
      "{'sape': 4139, 'guido': 4127, 'jack': 4098, 'baski': 'boo'}\n"
     ]
    }
   ],
   "source": [
    "# but make sure the key has not already been used\n",
    "# because if the key is already present, you will modify the corresponding value\n",
    "directory = {'sape': 4139, 'guido': 4127, 'jack': 4098, 'baski': 46055}\n",
    "directory['baski'] = 'boo'\n",
    "print(directory)"
   ]
  },
  {
   "cell_type": "code",
   "execution_count": 46,
   "metadata": {},
   "outputs": [
    {
     "name": "stdout",
     "output_type": "stream",
     "text": [
      "{'sape': 4139, 'guido': 4127, 'jack': 4098, 'baski': 46055}\n",
      "{'sape': 4139, 'guido': 4127, 'jack': 4098}\n",
      "{}\n"
     ]
    }
   ],
   "source": [
    "# del statement can be used to delete key-value pairs in a dict like we did in lists\n",
    "directory = dict(sape=4139, guido=4127, jack=4098, baski=46055)\n",
    "print(directory)\n",
    "del directory['baski']\n",
    "print(directory)\n",
    "#del directory\n",
    "directory.clear()\n",
    "print(directory)"
   ]
  },
  {
   "cell_type": "code",
   "execution_count": 49,
   "metadata": {},
   "outputs": [
    {
     "name": "stdout",
     "output_type": "stream",
     "text": [
      "4139\n",
      "4127\n",
      "4098\n",
      "46055\n"
     ]
    }
   ],
   "source": [
    "#looping through a dictionary\n",
    "directory = {'sape': 4139, 'guido': 4127, 'jack': 4098, 'baski': 46055}\n",
    "for k in directory:\n",
    "    print(directory[k])"
   ]
  },
  {
   "cell_type": "code",
   "execution_count": 50,
   "metadata": {},
   "outputs": [
    {
     "name": "stdout",
     "output_type": "stream",
     "text": [
      "sape 4139\n",
      "guido 4127\n",
      "jack 4098\n",
      "baski 46055\n"
     ]
    }
   ],
   "source": [
    "#looping through a dictionary keys and values simultaneously using items()\n",
    "directory = {'sape': 4139, 'guido': 4127, 'jack': 4098, 'baski': 46055}\n",
    "for k,v in directory.items():\n",
    "    print(k,v)"
   ]
  }
 ],
 "metadata": {
  "kernelspec": {
   "display_name": "Python 3",
   "language": "python",
   "name": "python3"
  },
  "language_info": {
   "codemirror_mode": {
    "name": "ipython",
    "version": 3
   },
   "file_extension": ".py",
   "mimetype": "text/x-python",
   "name": "python",
   "nbconvert_exporter": "python",
   "pygments_lexer": "ipython3",
   "version": "3.7.6"
  }
 },
 "nbformat": 4,
 "nbformat_minor": 4
}
